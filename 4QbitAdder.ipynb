{
 "cells": [
  {
   "cell_type": "code",
   "execution_count": 17,
   "id": "d7d9407c",
   "metadata": {},
   "outputs": [],
   "source": [
    "from qiskit import QuantumCircuit, assemble, Aer\n",
    "from qiskit.visualization import plot_histogram\n",
    "import numpy as np"
   ]
  },
  {
   "cell_type": "code",
   "execution_count": 2,
   "id": "21000013",
   "metadata": {},
   "outputs": [
    {
     "name": "stdout",
     "output_type": "stream",
     "text": [
      "enter number : 0\n",
      "enter number: 0\n"
     ]
    }
   ],
   "source": [
    "a=int(input(\"enter number : \"))\n",
    "b=int(input(\"enter number: \"))"
   ]
  },
  {
   "cell_type": "code",
   "execution_count": 3,
   "id": "f6e5fd7b",
   "metadata": {},
   "outputs": [],
   "source": [
    "c=np.binary_repr(a)\n",
    "d=np.binary_repr(b)\n"
   ]
  },
  {
   "cell_type": "code",
   "execution_count": 4,
   "id": "ec0891b2",
   "metadata": {},
   "outputs": [],
   "source": [
    "listc=list(str(c))\n",
    "listc.reverse()\n",
    "listd=list(str(d))\n",
    "listd.reverse()"
   ]
  },
  {
   "cell_type": "code",
   "execution_count": 5,
   "id": "8e9110d0",
   "metadata": {},
   "outputs": [],
   "source": [
    "qc=QuantumCircuit(13,5)"
   ]
  },
  {
   "cell_type": "code",
   "execution_count": 6,
   "id": "0ebb816d",
   "metadata": {},
   "outputs": [],
   "source": [
    "for m in range(0,len(listc)):\n",
    "    if(int(listc[m])==1):\n",
    "        qc.x(m)"
   ]
  },
  {
   "cell_type": "code",
   "execution_count": 7,
   "id": "6a99074e",
   "metadata": {},
   "outputs": [],
   "source": [
    "for n in range(len(listd)):\n",
    "    if(int(listd[n])==1):\n",
    "        qc.x(4+n)"
   ]
  },
  {
   "cell_type": "code",
   "execution_count": 8,
   "id": "b89febc2",
   "metadata": {},
   "outputs": [],
   "source": [
    "for i in range(4):\n",
    "    qc.cx(i,i+8)\n",
    "    qc.cx(i+4,i+8)"
   ]
  },
  {
   "cell_type": "code",
   "execution_count": 9,
   "id": "a7e13fd3",
   "metadata": {},
   "outputs": [],
   "source": [
    "for j in range(4):\n",
    "    qc.ccx(j,j+4,j+9)"
   ]
  },
  {
   "cell_type": "code",
   "execution_count": 10,
   "id": "0be7d9fe",
   "metadata": {},
   "outputs": [],
   "source": [
    "for k in range(5):\n",
    "    qc.measure(k+8,k)\n",
    "    "
   ]
  },
  {
   "cell_type": "code",
   "execution_count": 11,
   "id": "1f941802",
   "metadata": {},
   "outputs": [
    {
     "data": {
      "text/html": [
       "<pre style=\"word-wrap: normal;white-space: pre;background: #fff0;line-height: 1.1;font-family: &quot;Courier New&quot;,Courier,monospace\">                                                                              »\n",
       " q_0: ──■───────────────────────────────────────■─────────────────────────────»\n",
       "        │                                       │                             »\n",
       " q_1: ──┼────■──────────────────────────────────┼────■────────────────────────»\n",
       "        │    │                                  │    │                        »\n",
       " q_2: ──┼────┼────■─────────────────────────────┼────┼────■───────────────────»\n",
       "        │    │    │                             │    │    │                   »\n",
       " q_3: ──┼────┼────┼────■────────────────────────┼────┼────┼────■──────────────»\n",
       "        │    │    │    │                        │    │    │    │              »\n",
       " q_4: ──┼────┼────┼────┼────■───────────────────■────┼────┼────┼──────────────»\n",
       "        │    │    │    │    │                   │    │    │    │              »\n",
       " q_5: ──┼────┼────┼────┼────┼────■──────────────┼────■────┼────┼──────────────»\n",
       "        │    │    │    │    │    │              │    │    │    │              »\n",
       " q_6: ──┼────┼────┼────┼────┼────┼────■─────────┼────┼────■────┼──────────────»\n",
       "        │    │    │    │    │    │    │         │    │    │    │              »\n",
       " q_7: ──┼────┼────┼────┼────┼────┼────┼────■────┼────┼────┼────■──────────────»\n",
       "      ┌─┴─┐  │    │    │  ┌─┴─┐  │    │    │    │    │    │    │  ┌─┐         »\n",
       " q_8: ┤ X ├──┼────┼────┼──┤ X ├──┼────┼────┼────┼────┼────┼────┼──┤M├─────────»\n",
       "      └───┘┌─┴─┐  │    │  └───┘┌─┴─┐  │    │  ┌─┴─┐  │    │    │  └╥┘┌─┐      »\n",
       " q_9: ─────┤ X ├──┼────┼───────┤ X ├──┼────┼──┤ X ├──┼────┼────┼───╫─┤M├──────»\n",
       "           └───┘┌─┴─┐  │       └───┘┌─┴─┐  │  └───┘┌─┴─┐  │    │   ║ └╥┘┌─┐   »\n",
       "q_10: ──────────┤ X ├──┼────────────┤ X ├──┼───────┤ X ├──┼────┼───╫──╫─┤M├───»\n",
       "                └───┘┌─┴─┐          └───┘┌─┴─┐     └───┘┌─┴─┐  │   ║  ║ └╥┘┌─┐»\n",
       "q_11: ───────────────┤ X ├───────────────┤ X ├──────────┤ X ├──┼───╫──╫──╫─┤M├»\n",
       "                     └───┘               └───┘          └───┘┌─┴─┐ ║  ║  ║ └╥┘»\n",
       "q_12: ───────────────────────────────────────────────────────┤ X ├─╫──╫──╫──╫─»\n",
       "                                                             └───┘ ║  ║  ║  ║ »\n",
       " c: 5/═════════════════════════════════════════════════════════════╩══╩══╩══╩═»\n",
       "                                                                   0  1  2  3 »\n",
       "«         \n",
       "« q_0: ───\n",
       "«         \n",
       "« q_1: ───\n",
       "«         \n",
       "« q_2: ───\n",
       "«         \n",
       "« q_3: ───\n",
       "«         \n",
       "« q_4: ───\n",
       "«         \n",
       "« q_5: ───\n",
       "«         \n",
       "« q_6: ───\n",
       "«         \n",
       "« q_7: ───\n",
       "«         \n",
       "« q_8: ───\n",
       "«         \n",
       "« q_9: ───\n",
       "«         \n",
       "«q_10: ───\n",
       "«         \n",
       "«q_11: ───\n",
       "«      ┌─┐\n",
       "«q_12: ┤M├\n",
       "«      └╥┘\n",
       "« c: 5/═╩═\n",
       "«       4 </pre>"
      ],
      "text/plain": [
       "                                                                              »\n",
       " q_0: ──■───────────────────────────────────────■─────────────────────────────»\n",
       "        │                                       │                             »\n",
       " q_1: ──┼────■──────────────────────────────────┼────■────────────────────────»\n",
       "        │    │                                  │    │                        »\n",
       " q_2: ──┼────┼────■─────────────────────────────┼────┼────■───────────────────»\n",
       "        │    │    │                             │    │    │                   »\n",
       " q_3: ──┼────┼────┼────■────────────────────────┼────┼────┼────■──────────────»\n",
       "        │    │    │    │                        │    │    │    │              »\n",
       " q_4: ──┼────┼────┼────┼────■───────────────────■────┼────┼────┼──────────────»\n",
       "        │    │    │    │    │                   │    │    │    │              »\n",
       " q_5: ──┼────┼────┼────┼────┼────■──────────────┼────■────┼────┼──────────────»\n",
       "        │    │    │    │    │    │              │    │    │    │              »\n",
       " q_6: ──┼────┼────┼────┼────┼────┼────■─────────┼────┼────■────┼──────────────»\n",
       "        │    │    │    │    │    │    │         │    │    │    │              »\n",
       " q_7: ──┼────┼────┼────┼────┼────┼────┼────■────┼────┼────┼────■──────────────»\n",
       "      ┌─┴─┐  │    │    │  ┌─┴─┐  │    │    │    │    │    │    │  ┌─┐         »\n",
       " q_8: ┤ X ├──┼────┼────┼──┤ X ├──┼────┼────┼────┼────┼────┼────┼──┤M├─────────»\n",
       "      └───┘┌─┴─┐  │    │  └───┘┌─┴─┐  │    │  ┌─┴─┐  │    │    │  └╥┘┌─┐      »\n",
       " q_9: ─────┤ X ├──┼────┼───────┤ X ├──┼────┼──┤ X ├──┼────┼────┼───╫─┤M├──────»\n",
       "           └───┘┌─┴─┐  │       └───┘┌─┴─┐  │  └───┘┌─┴─┐  │    │   ║ └╥┘┌─┐   »\n",
       "q_10: ──────────┤ X ├──┼────────────┤ X ├──┼───────┤ X ├──┼────┼───╫──╫─┤M├───»\n",
       "                └───┘┌─┴─┐          └───┘┌─┴─┐     └───┘┌─┴─┐  │   ║  ║ └╥┘┌─┐»\n",
       "q_11: ───────────────┤ X ├───────────────┤ X ├──────────┤ X ├──┼───╫──╫──╫─┤M├»\n",
       "                     └───┘               └───┘          └───┘┌─┴─┐ ║  ║  ║ └╥┘»\n",
       "q_12: ───────────────────────────────────────────────────────┤ X ├─╫──╫──╫──╫─»\n",
       "                                                             └───┘ ║  ║  ║  ║ »\n",
       " c: 5/═════════════════════════════════════════════════════════════╩══╩══╩══╩═»\n",
       "                                                                   0  1  2  3 »\n",
       "«         \n",
       "« q_0: ───\n",
       "«         \n",
       "« q_1: ───\n",
       "«         \n",
       "« q_2: ───\n",
       "«         \n",
       "« q_3: ───\n",
       "«         \n",
       "« q_4: ───\n",
       "«         \n",
       "« q_5: ───\n",
       "«         \n",
       "« q_6: ───\n",
       "«         \n",
       "« q_7: ───\n",
       "«         \n",
       "« q_8: ───\n",
       "«         \n",
       "« q_9: ───\n",
       "«         \n",
       "«q_10: ───\n",
       "«         \n",
       "«q_11: ───\n",
       "«      ┌─┐\n",
       "«q_12: ┤M├\n",
       "«      └╥┘\n",
       "« c: 5/═╩═\n",
       "«       4 "
      ]
     },
     "execution_count": 11,
     "metadata": {},
     "output_type": "execute_result"
    }
   ],
   "source": [
    "qc.draw()\n"
   ]
  },
  {
   "cell_type": "code",
   "execution_count": 12,
   "id": "7a87ca49",
   "metadata": {},
   "outputs": [
    {
     "data": {
      "image/png": "[encoded data removed]",
      "text/plain": [
       "<Figure size 504x360 with 1 Axes>"
      ]
     },
     "execution_count": 12,
     "metadata": {},
     "output_type": "execute_result"
    }
   ],
   "source": [
    "sim = Aer.get_backend('qasm_simulator')\n",
    "qobj = assemble(qc)\n",
    "counts = sim.run(qobj).result().get_counts()\n",
    "plot_histogram(counts)"
   ]
  }
 ],
 "metadata": {
  "kernelspec": {
   "display_name": "Python 3",
   "language": "python",
   "name": "python3"
  },
  "language_info": {
   "codemirror_mode": {
    "name": "ipython",
    "version": 3
   },
   "file_extension": ".py",
   "mimetype": "text/x-python",
   "name": "python",
   "nbconvert_exporter": "python",
   "pygments_lexer": "ipython3",
   "version": "3.9.5"
  }
 },
 "nbformat": 4,
 "nbformat_minor": 5
}
